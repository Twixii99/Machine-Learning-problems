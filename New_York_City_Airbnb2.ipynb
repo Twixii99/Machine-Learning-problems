{
  "nbformat": 4,
  "nbformat_minor": 0,
  "metadata": {
    "colab": {
      "name": "New York City Airbnb2.ipynb",
      "provenance": [],
      "collapsed_sections": [],
      "authorship_tag": "ABX9TyP/ZDoeEcjXxmVaUIipnFv5",
      "include_colab_link": true
    },
    "kernelspec": {
      "name": "python3",
      "display_name": "Python 3"
    },
    "language_info": {
      "name": "python"
    },
    "accelerator": "GPU"
  },
  "cells": [
    {
      "cell_type": "markdown",
      "metadata": {
        "id": "view-in-github",
        "colab_type": "text"
      },
      "source": [
        "<a href=\"https://colab.research.google.com/github/Twixii99/Machine-Learning-problems/blob/main/New_York_City_Airbnb2.ipynb\" target=\"_parent\"><img src=\"https://colab.research.google.com/assets/colab-badge.svg\" alt=\"Open In Colab\"/></a>"
      ]
    },
    {
      "cell_type": "markdown",
      "metadata": {
        "id": "JbrSWFIHupgR"
      },
      "source": [
        "# Import used Packages"
      ]
    },
    {
      "cell_type": "code",
      "metadata": {
        "id": "PLpXab3UV6-4"
      },
      "source": [
        "import numpy as np\n",
        "import pandas as pd\n",
        "import matplotlib.pyplot as plt\n",
        "import seaborn as sns\n",
        "\n",
        "import warnings\n",
        "warnings.filterwarnings(\"ignore\")\n",
        "%matplotlib inline"
      ],
      "execution_count": 100,
      "outputs": []
    },
    {
      "cell_type": "markdown",
      "metadata": {
        "id": "WEP9IF0muxHx"
      },
      "source": [
        "# Data Preparation"
      ]
    },
    {
      "cell_type": "code",
      "metadata": {
        "colab": {
          "base_uri": "https://localhost:8080/"
        },
        "id": "JG7F6DAhImBJ",
        "outputId": "db9ec588-bb1a-46c2-8351-624b536a8e94"
      },
      "source": [
        "!wget https://raw.githubusercontent.com/alexeygrigorev/datasets/master/AB_NYC_2019.csv -O 'New York City Airbnb2.csv'"
      ],
      "execution_count": 101,
      "outputs": [
        {
          "output_type": "stream",
          "name": "stdout",
          "text": [
            "--2021-09-28 15:02:12--  https://raw.githubusercontent.com/alexeygrigorev/datasets/master/AB_NYC_2019.csv\n",
            "Resolving raw.githubusercontent.com (raw.githubusercontent.com)... 185.199.108.133, 185.199.109.133, 185.199.110.133, ...\n",
            "Connecting to raw.githubusercontent.com (raw.githubusercontent.com)|185.199.108.133|:443... connected.\n",
            "HTTP request sent, awaiting response... 200 OK\n",
            "Length: 7077973 (6.8M) [text/plain]\n",
            "Saving to: ‘New York City Airbnb2.csv’\n",
            "\n",
            "New York City Airbn 100%[===================>]   6.75M  --.-KB/s    in 0.08s   \n",
            "\n",
            "2021-09-28 15:02:12 (83.6 MB/s) - ‘New York City Airbnb2.csv’ saved [7077973/7077973]\n",
            "\n"
          ]
        }
      ]
    },
    {
      "cell_type": "code",
      "metadata": {
        "colab": {
          "base_uri": "https://localhost:8080/",
          "height": 213
        },
        "id": "YitKGZViKk0_",
        "outputId": "5de4d012-c878-4c29-a7f8-29178c9df3b1"
      },
      "source": [
        "used_cols = ['neighbourhood_group', 'room_type', 'latitude', 'longitude', 'price', 'minimum_nights', 'number_of_reviews', 'reviews_per_month', 'calculated_host_listings_count', 'availability_365']\n",
        "\n",
        "df = pd.read_csv('New York City Airbnb2.csv', usecols=used_cols).fillna(0)\n",
        "df.head(3)"
      ],
      "execution_count": 102,
      "outputs": [
        {
          "output_type": "execute_result",
          "data": {
            "text/html": [
              "<div>\n",
              "<style scoped>\n",
              "    .dataframe tbody tr th:only-of-type {\n",
              "        vertical-align: middle;\n",
              "    }\n",
              "\n",
              "    .dataframe tbody tr th {\n",
              "        vertical-align: top;\n",
              "    }\n",
              "\n",
              "    .dataframe thead th {\n",
              "        text-align: right;\n",
              "    }\n",
              "</style>\n",
              "<table border=\"1\" class=\"dataframe\">\n",
              "  <thead>\n",
              "    <tr style=\"text-align: right;\">\n",
              "      <th></th>\n",
              "      <th>neighbourhood_group</th>\n",
              "      <th>latitude</th>\n",
              "      <th>longitude</th>\n",
              "      <th>room_type</th>\n",
              "      <th>price</th>\n",
              "      <th>minimum_nights</th>\n",
              "      <th>number_of_reviews</th>\n",
              "      <th>reviews_per_month</th>\n",
              "      <th>calculated_host_listings_count</th>\n",
              "      <th>availability_365</th>\n",
              "    </tr>\n",
              "  </thead>\n",
              "  <tbody>\n",
              "    <tr>\n",
              "      <th>0</th>\n",
              "      <td>Brooklyn</td>\n",
              "      <td>40.64749</td>\n",
              "      <td>-73.97237</td>\n",
              "      <td>Private room</td>\n",
              "      <td>149</td>\n",
              "      <td>1</td>\n",
              "      <td>9</td>\n",
              "      <td>0.21</td>\n",
              "      <td>6</td>\n",
              "      <td>365</td>\n",
              "    </tr>\n",
              "    <tr>\n",
              "      <th>1</th>\n",
              "      <td>Manhattan</td>\n",
              "      <td>40.75362</td>\n",
              "      <td>-73.98377</td>\n",
              "      <td>Entire home/apt</td>\n",
              "      <td>225</td>\n",
              "      <td>1</td>\n",
              "      <td>45</td>\n",
              "      <td>0.38</td>\n",
              "      <td>2</td>\n",
              "      <td>355</td>\n",
              "    </tr>\n",
              "    <tr>\n",
              "      <th>2</th>\n",
              "      <td>Manhattan</td>\n",
              "      <td>40.80902</td>\n",
              "      <td>-73.94190</td>\n",
              "      <td>Private room</td>\n",
              "      <td>150</td>\n",
              "      <td>3</td>\n",
              "      <td>0</td>\n",
              "      <td>0.00</td>\n",
              "      <td>1</td>\n",
              "      <td>365</td>\n",
              "    </tr>\n",
              "  </tbody>\n",
              "</table>\n",
              "</div>"
            ],
            "text/plain": [
              "  neighbourhood_group  ...  availability_365\n",
              "0            Brooklyn  ...               365\n",
              "1           Manhattan  ...               355\n",
              "2           Manhattan  ...               365\n",
              "\n",
              "[3 rows x 10 columns]"
            ]
          },
          "metadata": {},
          "execution_count": 102
        }
      ]
    },
    {
      "cell_type": "code",
      "metadata": {
        "colab": {
          "base_uri": "https://localhost:8080/",
          "height": 224
        },
        "id": "QJZcv-05LIIt",
        "outputId": "75c85cb8-679d-4c9a-c8a1-e607df7778a7"
      },
      "source": [
        "for col in df[df.dtypes[df.dtypes == object].index.to_list()]:\n",
        "  df[col] = df[col].str.lower().str.replace(' ', '_')\n",
        "df.head()"
      ],
      "execution_count": 103,
      "outputs": [
        {
          "output_type": "execute_result",
          "data": {
            "text/html": [
              "<div>\n",
              "<style scoped>\n",
              "    .dataframe tbody tr th:only-of-type {\n",
              "        vertical-align: middle;\n",
              "    }\n",
              "\n",
              "    .dataframe tbody tr th {\n",
              "        vertical-align: top;\n",
              "    }\n",
              "\n",
              "    .dataframe thead th {\n",
              "        text-align: right;\n",
              "    }\n",
              "</style>\n",
              "<table border=\"1\" class=\"dataframe\">\n",
              "  <thead>\n",
              "    <tr style=\"text-align: right;\">\n",
              "      <th></th>\n",
              "      <th>neighbourhood_group</th>\n",
              "      <th>latitude</th>\n",
              "      <th>longitude</th>\n",
              "      <th>room_type</th>\n",
              "      <th>price</th>\n",
              "      <th>minimum_nights</th>\n",
              "      <th>number_of_reviews</th>\n",
              "      <th>reviews_per_month</th>\n",
              "      <th>calculated_host_listings_count</th>\n",
              "      <th>availability_365</th>\n",
              "    </tr>\n",
              "  </thead>\n",
              "  <tbody>\n",
              "    <tr>\n",
              "      <th>0</th>\n",
              "      <td>brooklyn</td>\n",
              "      <td>40.64749</td>\n",
              "      <td>-73.97237</td>\n",
              "      <td>private_room</td>\n",
              "      <td>149</td>\n",
              "      <td>1</td>\n",
              "      <td>9</td>\n",
              "      <td>0.21</td>\n",
              "      <td>6</td>\n",
              "      <td>365</td>\n",
              "    </tr>\n",
              "    <tr>\n",
              "      <th>1</th>\n",
              "      <td>manhattan</td>\n",
              "      <td>40.75362</td>\n",
              "      <td>-73.98377</td>\n",
              "      <td>entire_home/apt</td>\n",
              "      <td>225</td>\n",
              "      <td>1</td>\n",
              "      <td>45</td>\n",
              "      <td>0.38</td>\n",
              "      <td>2</td>\n",
              "      <td>355</td>\n",
              "    </tr>\n",
              "    <tr>\n",
              "      <th>2</th>\n",
              "      <td>manhattan</td>\n",
              "      <td>40.80902</td>\n",
              "      <td>-73.94190</td>\n",
              "      <td>private_room</td>\n",
              "      <td>150</td>\n",
              "      <td>3</td>\n",
              "      <td>0</td>\n",
              "      <td>0.00</td>\n",
              "      <td>1</td>\n",
              "      <td>365</td>\n",
              "    </tr>\n",
              "    <tr>\n",
              "      <th>3</th>\n",
              "      <td>brooklyn</td>\n",
              "      <td>40.68514</td>\n",
              "      <td>-73.95976</td>\n",
              "      <td>entire_home/apt</td>\n",
              "      <td>89</td>\n",
              "      <td>1</td>\n",
              "      <td>270</td>\n",
              "      <td>4.64</td>\n",
              "      <td>1</td>\n",
              "      <td>194</td>\n",
              "    </tr>\n",
              "    <tr>\n",
              "      <th>4</th>\n",
              "      <td>manhattan</td>\n",
              "      <td>40.79851</td>\n",
              "      <td>-73.94399</td>\n",
              "      <td>entire_home/apt</td>\n",
              "      <td>80</td>\n",
              "      <td>10</td>\n",
              "      <td>9</td>\n",
              "      <td>0.10</td>\n",
              "      <td>1</td>\n",
              "      <td>0</td>\n",
              "    </tr>\n",
              "  </tbody>\n",
              "</table>\n",
              "</div>"
            ],
            "text/plain": [
              "  neighbourhood_group  ...  availability_365\n",
              "0            brooklyn  ...               365\n",
              "1           manhattan  ...               355\n",
              "2           manhattan  ...               365\n",
              "3            brooklyn  ...               194\n",
              "4           manhattan  ...                 0\n",
              "\n",
              "[5 rows x 10 columns]"
            ]
          },
          "metadata": {},
          "execution_count": 103
        }
      ]
    },
    {
      "cell_type": "markdown",
      "metadata": {
        "id": "dhjjwMo3vGfr"
      },
      "source": [
        "# Question 1"
      ]
    },
    {
      "cell_type": "markdown",
      "metadata": {
        "id": "J_6jY-A_VmNV"
      },
      "source": [
        "## Part 1"
      ]
    },
    {
      "cell_type": "code",
      "metadata": {
        "colab": {
          "base_uri": "https://localhost:8080/",
          "height": 173
        },
        "id": "3xWY3qWt0Tcc",
        "outputId": "c5aad649-7d85-445c-f513-390bc4e0a0c8"
      },
      "source": [
        "# first meathod\n",
        "df.describe(include='O')"
      ],
      "execution_count": 104,
      "outputs": [
        {
          "output_type": "execute_result",
          "data": {
            "text/html": [
              "<div>\n",
              "<style scoped>\n",
              "    .dataframe tbody tr th:only-of-type {\n",
              "        vertical-align: middle;\n",
              "    }\n",
              "\n",
              "    .dataframe tbody tr th {\n",
              "        vertical-align: top;\n",
              "    }\n",
              "\n",
              "    .dataframe thead th {\n",
              "        text-align: right;\n",
              "    }\n",
              "</style>\n",
              "<table border=\"1\" class=\"dataframe\">\n",
              "  <thead>\n",
              "    <tr style=\"text-align: right;\">\n",
              "      <th></th>\n",
              "      <th>neighbourhood_group</th>\n",
              "      <th>room_type</th>\n",
              "    </tr>\n",
              "  </thead>\n",
              "  <tbody>\n",
              "    <tr>\n",
              "      <th>count</th>\n",
              "      <td>48895</td>\n",
              "      <td>48895</td>\n",
              "    </tr>\n",
              "    <tr>\n",
              "      <th>unique</th>\n",
              "      <td>5</td>\n",
              "      <td>3</td>\n",
              "    </tr>\n",
              "    <tr>\n",
              "      <th>top</th>\n",
              "      <td>manhattan</td>\n",
              "      <td>entire_home/apt</td>\n",
              "    </tr>\n",
              "    <tr>\n",
              "      <th>freq</th>\n",
              "      <td>21661</td>\n",
              "      <td>25409</td>\n",
              "    </tr>\n",
              "  </tbody>\n",
              "</table>\n",
              "</div>"
            ],
            "text/plain": [
              "       neighbourhood_group        room_type\n",
              "count                48895            48895\n",
              "unique                   5                3\n",
              "top              manhattan  entire_home/apt\n",
              "freq                 21661            25409"
            ]
          },
          "metadata": {},
          "execution_count": 104
        }
      ]
    },
    {
      "cell_type": "code",
      "metadata": {
        "colab": {
          "base_uri": "https://localhost:8080/",
          "height": 35
        },
        "id": "RXocBaZNLI_T",
        "outputId": "79fbdde9-6148-49b3-c376-df4b8327a0c9"
      },
      "source": [
        "# Second meathod\n",
        "df.neighbourhood_group.value_counts().sort_values(ascending=False).index[0]"
      ],
      "execution_count": 105,
      "outputs": [
        {
          "output_type": "execute_result",
          "data": {
            "application/vnd.google.colaboratory.intrinsic+json": {
              "type": "string"
            },
            "text/plain": [
              "'manhattan'"
            ]
          },
          "metadata": {},
          "execution_count": 105
        }
      ]
    },
    {
      "cell_type": "code",
      "metadata": {
        "colab": {
          "base_uri": "https://localhost:8080/"
        },
        "id": "JKwM32EuVeJy",
        "outputId": "8b9c96fb-9385-4d90-bb0a-825702eb4b99"
      },
      "source": [
        "# third method\n",
        "df.neighbourhood_group.mode()"
      ],
      "execution_count": 106,
      "outputs": [
        {
          "output_type": "execute_result",
          "data": {
            "text/plain": [
              "0    manhattan\n",
              "dtype: object"
            ]
          },
          "metadata": {},
          "execution_count": 106
        }
      ]
    },
    {
      "cell_type": "markdown",
      "metadata": {
        "id": "ebVUYRH_VqJA"
      },
      "source": [
        "## Part 2"
      ]
    },
    {
      "cell_type": "code",
      "metadata": {
        "id": "h_GrdcJvN8t2"
      },
      "source": [
        "from sklearn.model_selection import train_test_split"
      ],
      "execution_count": 107,
      "outputs": []
    },
    {
      "cell_type": "code",
      "metadata": {
        "id": "AU05YHiSNOMK"
      },
      "source": [
        "df_train_validate, df_test = train_test_split(df, test_size=0.2, shuffle=True, random_state=42)\n",
        "df_train, df_validate = train_test_split(df_train_validate, test_size=0.25, shuffle=True, random_state=42)"
      ],
      "execution_count": 108,
      "outputs": []
    },
    {
      "cell_type": "code",
      "metadata": {
        "colab": {
          "base_uri": "https://localhost:8080/"
        },
        "id": "ghNSX1RMOM95",
        "outputId": "13289367-57b0-4626-8a34-21b906878738"
      },
      "source": [
        "assert(len(df_train) + len(df_validate) == len(df_train_validate))\n",
        "assert(len(df_train) + len(df_validate) + len(df_test) == len(df))\n",
        "len(df_train), len(df_validate), len(df_test)"
      ],
      "execution_count": 109,
      "outputs": [
        {
          "output_type": "execute_result",
          "data": {
            "text/plain": [
              "(29337, 9779, 9779)"
            ]
          },
          "metadata": {},
          "execution_count": 109
        }
      ]
    },
    {
      "cell_type": "code",
      "metadata": {
        "id": "TUozxhk_Oly-"
      },
      "source": [
        "df_train = df_train.reset_index(drop=True)\n",
        "df_validate = df_validate.reset_index(drop=True)\n",
        "df_test = df_test.reset_index(drop=True)"
      ],
      "execution_count": 110,
      "outputs": []
    },
    {
      "cell_type": "code",
      "metadata": {
        "id": "gLY70ouXO1rx"
      },
      "source": [
        "y_train = df_train.price\n",
        "y_validate = df_validate.price\n",
        "y_test = df_test.price\n",
        "\n",
        "del df_train['price']\n",
        "del df_validate['price']\n",
        "del df_test['price']"
      ],
      "execution_count": 111,
      "outputs": []
    },
    {
      "cell_type": "markdown",
      "metadata": {
        "id": "aagB08tICSq8"
      },
      "source": [
        "# Question2"
      ]
    },
    {
      "cell_type": "code",
      "metadata": {
        "colab": {
          "base_uri": "https://localhost:8080/"
        },
        "id": "fOe5FajIPnPS",
        "outputId": "9050c488-e2f1-4d10-f3c3-a35b3aa50210"
      },
      "source": [
        "numerical = df_train[df_train.dtypes[df_train.dtypes != object].index.to_list()]\n",
        "numerical.dtypes"
      ],
      "execution_count": 112,
      "outputs": [
        {
          "output_type": "execute_result",
          "data": {
            "text/plain": [
              "latitude                          float64\n",
              "longitude                         float64\n",
              "minimum_nights                      int64\n",
              "number_of_reviews                   int64\n",
              "reviews_per_month                 float64\n",
              "calculated_host_listings_count      int64\n",
              "availability_365                    int64\n",
              "dtype: object"
            ]
          },
          "metadata": {},
          "execution_count": 112
        }
      ]
    },
    {
      "cell_type": "code",
      "metadata": {
        "id": "g5ou1CUdUTPS"
      },
      "source": [
        "from IPython.display import display"
      ],
      "execution_count": 113,
      "outputs": []
    },
    {
      "cell_type": "code",
      "metadata": {
        "colab": {
          "base_uri": "https://localhost:8080/",
          "height": 1000
        },
        "id": "lPLxjZFmTPHs",
        "outputId": "6fb35032-4760-42af-fbc9-10a7b4b38693"
      },
      "source": [
        "# Trivial solution\n",
        "for col in numerical.columns:\n",
        "  print(\"COL: \", col)\n",
        "  display(numerical.corrwith(numerical[col]))\n",
        "  print()\n",
        "  print()"
      ],
      "execution_count": 114,
      "outputs": [
        {
          "output_type": "stream",
          "name": "stdout",
          "text": [
            "COL:  latitude\n"
          ]
        },
        {
          "output_type": "display_data",
          "data": {
            "text/plain": [
              "latitude                          1.000000\n",
              "longitude                         0.080301\n",
              "minimum_nights                    0.027441\n",
              "number_of_reviews                -0.006246\n",
              "reviews_per_month                -0.007159\n",
              "calculated_host_listings_count    0.019375\n",
              "availability_365                 -0.005891\n",
              "dtype: float64"
            ]
          },
          "metadata": {}
        },
        {
          "output_type": "stream",
          "name": "stdout",
          "text": [
            "\n",
            "\n",
            "COL:  longitude\n"
          ]
        },
        {
          "output_type": "display_data",
          "data": {
            "text/plain": [
              "latitude                          0.080301\n",
              "longitude                         1.000000\n",
              "minimum_nights                   -0.060660\n",
              "number_of_reviews                 0.055084\n",
              "reviews_per_month                 0.134642\n",
              "calculated_host_listings_count   -0.117041\n",
              "availability_365                  0.083666\n",
              "dtype: float64"
            ]
          },
          "metadata": {}
        },
        {
          "output_type": "stream",
          "name": "stdout",
          "text": [
            "\n",
            "\n",
            "COL:  minimum_nights\n"
          ]
        },
        {
          "output_type": "display_data",
          "data": {
            "text/plain": [
              "latitude                          0.027441\n",
              "longitude                        -0.060660\n",
              "minimum_nights                    1.000000\n",
              "number_of_reviews                -0.076020\n",
              "reviews_per_month                -0.120703\n",
              "calculated_host_listings_count    0.118647\n",
              "availability_365                  0.138901\n",
              "dtype: float64"
            ]
          },
          "metadata": {}
        },
        {
          "output_type": "stream",
          "name": "stdout",
          "text": [
            "\n",
            "\n",
            "COL:  number_of_reviews\n"
          ]
        },
        {
          "output_type": "display_data",
          "data": {
            "text/plain": [
              "latitude                         -0.006246\n",
              "longitude                         0.055084\n",
              "minimum_nights                   -0.076020\n",
              "number_of_reviews                 1.000000\n",
              "reviews_per_month                 0.590374\n",
              "calculated_host_listings_count   -0.073167\n",
              "availability_365                  0.174477\n",
              "dtype: float64"
            ]
          },
          "metadata": {}
        },
        {
          "output_type": "stream",
          "name": "stdout",
          "text": [
            "\n",
            "\n",
            "COL:  reviews_per_month\n"
          ]
        },
        {
          "output_type": "display_data",
          "data": {
            "text/plain": [
              "latitude                         -0.007159\n",
              "longitude                         0.134642\n",
              "minimum_nights                   -0.120703\n",
              "number_of_reviews                 0.590374\n",
              "reviews_per_month                 1.000000\n",
              "calculated_host_listings_count   -0.048767\n",
              "availability_365                  0.165376\n",
              "dtype: float64"
            ]
          },
          "metadata": {}
        },
        {
          "output_type": "stream",
          "name": "stdout",
          "text": [
            "\n",
            "\n",
            "COL:  calculated_host_listings_count\n"
          ]
        },
        {
          "output_type": "display_data",
          "data": {
            "text/plain": [
              "latitude                          0.019375\n",
              "longitude                        -0.117041\n",
              "minimum_nights                    0.118647\n",
              "number_of_reviews                -0.073167\n",
              "reviews_per_month                -0.048767\n",
              "calculated_host_listings_count    1.000000\n",
              "availability_365                  0.225913\n",
              "dtype: float64"
            ]
          },
          "metadata": {}
        },
        {
          "output_type": "stream",
          "name": "stdout",
          "text": [
            "\n",
            "\n",
            "COL:  availability_365\n"
          ]
        },
        {
          "output_type": "display_data",
          "data": {
            "text/plain": [
              "latitude                         -0.005891\n",
              "longitude                         0.083666\n",
              "minimum_nights                    0.138901\n",
              "number_of_reviews                 0.174477\n",
              "reviews_per_month                 0.165376\n",
              "calculated_host_listings_count    0.225913\n",
              "availability_365                  1.000000\n",
              "dtype: float64"
            ]
          },
          "metadata": {}
        },
        {
          "output_type": "stream",
          "name": "stdout",
          "text": [
            "\n",
            "\n"
          ]
        }
      ]
    },
    {
      "cell_type": "code",
      "metadata": {
        "colab": {
          "base_uri": "https://localhost:8080/",
          "height": 266
        },
        "id": "wwjgZwC0UIDg",
        "outputId": "b339540c-b2f1-4ccd-a4e6-5a4ca2838c6a"
      },
      "source": [
        "# Already implemented solution\n",
        "correlation_matrix = numerical.corr()\n",
        "correlation_matrix"
      ],
      "execution_count": 115,
      "outputs": [
        {
          "output_type": "execute_result",
          "data": {
            "text/html": [
              "<div>\n",
              "<style scoped>\n",
              "    .dataframe tbody tr th:only-of-type {\n",
              "        vertical-align: middle;\n",
              "    }\n",
              "\n",
              "    .dataframe tbody tr th {\n",
              "        vertical-align: top;\n",
              "    }\n",
              "\n",
              "    .dataframe thead th {\n",
              "        text-align: right;\n",
              "    }\n",
              "</style>\n",
              "<table border=\"1\" class=\"dataframe\">\n",
              "  <thead>\n",
              "    <tr style=\"text-align: right;\">\n",
              "      <th></th>\n",
              "      <th>latitude</th>\n",
              "      <th>longitude</th>\n",
              "      <th>minimum_nights</th>\n",
              "      <th>number_of_reviews</th>\n",
              "      <th>reviews_per_month</th>\n",
              "      <th>calculated_host_listings_count</th>\n",
              "      <th>availability_365</th>\n",
              "    </tr>\n",
              "  </thead>\n",
              "  <tbody>\n",
              "    <tr>\n",
              "      <th>latitude</th>\n",
              "      <td>1.000000</td>\n",
              "      <td>0.080301</td>\n",
              "      <td>0.027441</td>\n",
              "      <td>-0.006246</td>\n",
              "      <td>-0.007159</td>\n",
              "      <td>0.019375</td>\n",
              "      <td>-0.005891</td>\n",
              "    </tr>\n",
              "    <tr>\n",
              "      <th>longitude</th>\n",
              "      <td>0.080301</td>\n",
              "      <td>1.000000</td>\n",
              "      <td>-0.060660</td>\n",
              "      <td>0.055084</td>\n",
              "      <td>0.134642</td>\n",
              "      <td>-0.117041</td>\n",
              "      <td>0.083666</td>\n",
              "    </tr>\n",
              "    <tr>\n",
              "      <th>minimum_nights</th>\n",
              "      <td>0.027441</td>\n",
              "      <td>-0.060660</td>\n",
              "      <td>1.000000</td>\n",
              "      <td>-0.076020</td>\n",
              "      <td>-0.120703</td>\n",
              "      <td>0.118647</td>\n",
              "      <td>0.138901</td>\n",
              "    </tr>\n",
              "    <tr>\n",
              "      <th>number_of_reviews</th>\n",
              "      <td>-0.006246</td>\n",
              "      <td>0.055084</td>\n",
              "      <td>-0.076020</td>\n",
              "      <td>1.000000</td>\n",
              "      <td>0.590374</td>\n",
              "      <td>-0.073167</td>\n",
              "      <td>0.174477</td>\n",
              "    </tr>\n",
              "    <tr>\n",
              "      <th>reviews_per_month</th>\n",
              "      <td>-0.007159</td>\n",
              "      <td>0.134642</td>\n",
              "      <td>-0.120703</td>\n",
              "      <td>0.590374</td>\n",
              "      <td>1.000000</td>\n",
              "      <td>-0.048767</td>\n",
              "      <td>0.165376</td>\n",
              "    </tr>\n",
              "    <tr>\n",
              "      <th>calculated_host_listings_count</th>\n",
              "      <td>0.019375</td>\n",
              "      <td>-0.117041</td>\n",
              "      <td>0.118647</td>\n",
              "      <td>-0.073167</td>\n",
              "      <td>-0.048767</td>\n",
              "      <td>1.000000</td>\n",
              "      <td>0.225913</td>\n",
              "    </tr>\n",
              "    <tr>\n",
              "      <th>availability_365</th>\n",
              "      <td>-0.005891</td>\n",
              "      <td>0.083666</td>\n",
              "      <td>0.138901</td>\n",
              "      <td>0.174477</td>\n",
              "      <td>0.165376</td>\n",
              "      <td>0.225913</td>\n",
              "      <td>1.000000</td>\n",
              "    </tr>\n",
              "  </tbody>\n",
              "</table>\n",
              "</div>"
            ],
            "text/plain": [
              "                                latitude  ...  availability_365\n",
              "latitude                        1.000000  ...         -0.005891\n",
              "longitude                       0.080301  ...          0.083666\n",
              "minimum_nights                  0.027441  ...          0.138901\n",
              "number_of_reviews              -0.006246  ...          0.174477\n",
              "reviews_per_month              -0.007159  ...          0.165376\n",
              "calculated_host_listings_count  0.019375  ...          0.225913\n",
              "availability_365               -0.005891  ...          1.000000\n",
              "\n",
              "[7 rows x 7 columns]"
            ]
          },
          "metadata": {},
          "execution_count": 115
        }
      ]
    },
    {
      "cell_type": "code",
      "metadata": {
        "colab": {
          "base_uri": "https://localhost:8080/",
          "height": 1000
        },
        "id": "BqwvJaOzXliP",
        "outputId": "db0a4d0f-c59a-4f1c-8008-8333a2de98b6"
      },
      "source": [
        "# graph method\n",
        "fig = plt.figure(figsize=(15,15))\n",
        "sns.heatmap(numerical.corr(),annot=True,linewidths=0.5, cmap=\"Reds\")\n",
        "plt.title(\"Heatmap for the correlation matrix\")\n",
        "plt.show()"
      ],
      "execution_count": 116,
      "outputs": [
        {
          "output_type": "display_data",
          "data": {
            "image/png": "[encoded data removed]",
            "text/plain": [
              "<Figure size 1080x1080 with 2 Axes>"
            ]
          },
          "metadata": {
            "needs_background": "light"
          }
        }
      ]
    },
    {
      "cell_type": "code",
      "metadata": {
        "colab": {
          "base_uri": "https://localhost:8080/"
        },
        "id": "CgIRdTuDY4qW",
        "outputId": "397160b7-db7f-4107-d753-87c7cbfa112a"
      },
      "source": [
        "numerical.corr().unstack().sort_values(ascending=False)"
      ],
      "execution_count": 117,
      "outputs": [
        {
          "output_type": "execute_result",
          "data": {
            "text/plain": [
              "availability_365                availability_365                  1.000000\n",
              "calculated_host_listings_count  calculated_host_listings_count    1.000000\n",
              "longitude                       longitude                         1.000000\n",
              "minimum_nights                  minimum_nights                    1.000000\n",
              "reviews_per_month               reviews_per_month                 1.000000\n",
              "number_of_reviews               number_of_reviews                 1.000000\n",
              "latitude                        latitude                          1.000000\n",
              "number_of_reviews               reviews_per_month                 0.590374\n",
              "reviews_per_month               number_of_reviews                 0.590374\n",
              "calculated_host_listings_count  availability_365                  0.225913\n",
              "availability_365                calculated_host_listings_count    0.225913\n",
              "                                number_of_reviews                 0.174477\n",
              "number_of_reviews               availability_365                  0.174477\n",
              "reviews_per_month               availability_365                  0.165376\n",
              "availability_365                reviews_per_month                 0.165376\n",
              "minimum_nights                  availability_365                  0.138901\n",
              "availability_365                minimum_nights                    0.138901\n",
              "longitude                       reviews_per_month                 0.134642\n",
              "reviews_per_month               longitude                         0.134642\n",
              "calculated_host_listings_count  minimum_nights                    0.118647\n",
              "minimum_nights                  calculated_host_listings_count    0.118647\n",
              "availability_365                longitude                         0.083666\n",
              "longitude                       availability_365                  0.083666\n",
              "                                latitude                          0.080301\n",
              "latitude                        longitude                         0.080301\n",
              "longitude                       number_of_reviews                 0.055084\n",
              "number_of_reviews               longitude                         0.055084\n",
              "latitude                        minimum_nights                    0.027441\n",
              "minimum_nights                  latitude                          0.027441\n",
              "calculated_host_listings_count  latitude                          0.019375\n",
              "latitude                        calculated_host_listings_count    0.019375\n",
              "                                availability_365                 -0.005891\n",
              "availability_365                latitude                         -0.005891\n",
              "latitude                        number_of_reviews                -0.006246\n",
              "number_of_reviews               latitude                         -0.006246\n",
              "reviews_per_month               latitude                         -0.007159\n",
              "latitude                        reviews_per_month                -0.007159\n",
              "reviews_per_month               calculated_host_listings_count   -0.048767\n",
              "calculated_host_listings_count  reviews_per_month                -0.048767\n",
              "minimum_nights                  longitude                        -0.060660\n",
              "longitude                       minimum_nights                   -0.060660\n",
              "number_of_reviews               calculated_host_listings_count   -0.073167\n",
              "calculated_host_listings_count  number_of_reviews                -0.073167\n",
              "minimum_nights                  number_of_reviews                -0.076020\n",
              "number_of_reviews               minimum_nights                   -0.076020\n",
              "longitude                       calculated_host_listings_count   -0.117041\n",
              "calculated_host_listings_count  longitude                        -0.117041\n",
              "minimum_nights                  reviews_per_month                -0.120703\n",
              "reviews_per_month               minimum_nights                   -0.120703\n",
              "dtype: float64"
            ]
          },
          "metadata": {},
          "execution_count": 117
        }
      ]
    },
    {
      "cell_type": "code",
      "metadata": {
        "colab": {
          "base_uri": "https://localhost:8080/"
        },
        "id": "Q4JdCjuBVvwz",
        "outputId": "b47bba95-0525-4ceb-c803-a9fb57af5816"
      },
      "source": [
        "# that's for tha already implemented cell.\n",
        "max_val = 1e-6\n",
        "for col in correlation_matrix.columns:\n",
        "  temp = correlation_matrix[col].nlargest(2)[1]\n",
        "  if max_val <= temp:\n",
        "    max_val = temp\n",
        "    max_col = col\n",
        "  \n",
        "print(max_col.upper(), \"has\",  round(max_val, 2))"
      ],
      "execution_count": 118,
      "outputs": [
        {
          "output_type": "stream",
          "name": "stdout",
          "text": [
            "REVIEWS_PER_MONTH has 0.59\n"
          ]
        }
      ]
    },
    {
      "cell_type": "code",
      "metadata": {
        "id": "p2JRvvH7V5Sg"
      },
      "source": [
        "# Converting prices into boolean data.\n",
        "threshold = 152\n",
        "y_train_bool = (y_train >= threshold).astype(int)\n",
        "y_validate_bool = (y_validate >= threshold).astype(int)\n",
        "y_test_bool = (y_test >= threshold).astype(int)\n",
        "df_train_validate['price'] = (df_train_validate['price'] >= threshold).astype(int)"
      ],
      "execution_count": 119,
      "outputs": []
    },
    {
      "cell_type": "code",
      "metadata": {
        "id": "jpCRj0VMb4G9"
      },
      "source": [
        "assert(df_train_validate.price.value_counts()[0] == y_train_bool.value_counts()[0] + y_validate_bool.value_counts()[0])\n",
        "assert(df_train_validate.price.value_counts()[1] == y_train_bool.value_counts()[1] + y_validate_bool.value_counts()[1])"
      ],
      "execution_count": 120,
      "outputs": []
    },
    {
      "cell_type": "markdown",
      "metadata": {
        "id": "oLUjD9t6w4N9"
      },
      "source": [
        "# Question 3"
      ]
    },
    {
      "cell_type": "code",
      "metadata": {
        "colab": {
          "base_uri": "https://localhost:8080/"
        },
        "id": "IQeurgLBem-L",
        "outputId": "3267fa6a-5c63-4e7a-a104-7b29447322a1"
      },
      "source": [
        "categorical = df_train.dtypes[df_train.dtypes == object].index.to_list()\n",
        "categorical"
      ],
      "execution_count": 121,
      "outputs": [
        {
          "output_type": "execute_result",
          "data": {
            "text/plain": [
              "['neighbourhood_group', 'room_type']"
            ]
          },
          "metadata": {},
          "execution_count": 121
        }
      ]
    },
    {
      "cell_type": "code",
      "metadata": {
        "id": "tYVSlNExhp_a"
      },
      "source": [
        "from sklearn.metrics import mutual_info_score"
      ],
      "execution_count": 122,
      "outputs": []
    },
    {
      "cell_type": "code",
      "metadata": {
        "id": "WVMKYKxhhw8q"
      },
      "source": [
        "def mutual_information(series):\n",
        "  return mutual_info_score(series, y_train_bool)"
      ],
      "execution_count": 123,
      "outputs": []
    },
    {
      "cell_type": "code",
      "metadata": {
        "colab": {
          "base_uri": "https://localhost:8080/"
        },
        "id": "_uNl1rd7e4fT",
        "outputId": "67da6e3f-9339-424b-9076-e9138d3b75a8"
      },
      "source": [
        "df_train[categorical].apply(mutual_information).sort_values(ascending=False).round(2)"
      ],
      "execution_count": 124,
      "outputs": [
        {
          "output_type": "execute_result",
          "data": {
            "text/plain": [
              "room_type              0.14\n",
              "neighbourhood_group    0.05\n",
              "dtype: float64"
            ]
          },
          "metadata": {},
          "execution_count": 124
        }
      ]
    },
    {
      "cell_type": "markdown",
      "metadata": {
        "id": "n1gRpIb1yvJX"
      },
      "source": [
        "# Question 4"
      ]
    },
    {
      "cell_type": "code",
      "metadata": {
        "id": "ALZSMiwdiHy0"
      },
      "source": [
        "from sklearn.linear_model import LogisticRegression\n",
        "from sklearn.feature_extraction import DictVectorizer"
      ],
      "execution_count": 125,
      "outputs": []
    },
    {
      "cell_type": "code",
      "metadata": {
        "id": "f0EpuDXujN06"
      },
      "source": [
        "dv = DictVectorizer(sparse=False)\n",
        "X_train = dv.fit_transform(df_train.to_dict(orient='records'))\n",
        "X_validate = dv.transform(df_validate.to_dict(orient='records'))"
      ],
      "execution_count": 126,
      "outputs": []
    },
    {
      "cell_type": "code",
      "metadata": {
        "id": "kDybR_wojloL"
      },
      "source": [
        "model = LogisticRegression(solver='lbfgs', C=1.0, random_state=42).fit(X_train, y_train_bool)"
      ],
      "execution_count": 127,
      "outputs": []
    },
    {
      "cell_type": "code",
      "metadata": {
        "id": "7B9J6tfUkcDi"
      },
      "source": [
        "prediction = model.predict_proba(X_validate)\n",
        "decision = (prediction[:,1] >= 0.5).astype(int)"
      ],
      "execution_count": 128,
      "outputs": []
    },
    {
      "cell_type": "code",
      "metadata": {
        "colab": {
          "base_uri": "https://localhost:8080/"
        },
        "id": "phB7vtSqlKTe",
        "outputId": "897d5218-21b0-4b51-81ee-981402ef412a"
      },
      "source": [
        "global_accurecy = (decision == y_validate_bool).mean().round(2)\n",
        "global_accurecy"
      ],
      "execution_count": 129,
      "outputs": [
        {
          "output_type": "execute_result",
          "data": {
            "text/plain": [
              "0.79"
            ]
          },
          "metadata": {},
          "execution_count": 129
        }
      ]
    },
    {
      "cell_type": "markdown",
      "metadata": {
        "id": "i2yD6I_hoZuh"
      },
      "source": [
        "# Question 5"
      ]
    },
    {
      "cell_type": "code",
      "metadata": {
        "id": "aujAJ578onz0"
      },
      "source": [
        "temp = {}\n",
        "for i, col in enumerate(df_train.columns.to_list()):\n",
        "  df_train_temp = df_train[df_train.columns.delete(i)]\n",
        "  df_validate_temp = df_validate[df_validate.columns.delete(i)]\n",
        "  dv=DictVectorizer(sparse=False)\n",
        "  X_train_temp = dv.fit_transform(df_train_temp.to_dict(orient='records'))\n",
        "  X_validate_temp = dv.transform(df_validate_temp.to_dict(orient='records'))\n",
        "  model = LogisticRegression(solver='lbfgs', C=1.0, random_state=42).fit(X_train_temp, y_train_bool)\n",
        "  prediction = model.predict_proba(X_validate_temp)\n",
        "  decision = (prediction[:,1] >= 0.5).astype(int)\n",
        "  temp[col] = global_accurecy - (decision == y_validate_bool).mean()"
      ],
      "execution_count": 130,
      "outputs": []
    },
    {
      "cell_type": "code",
      "metadata": {
        "id": "Z80hb-qKsjxs"
      },
      "source": [
        "ans = {}\n",
        "ans['neighbourhood_group'] = temp['neighbourhood_group']\n",
        "ans['room_type'] = temp['room_type']\n",
        "ans['number_of_reviews'] = temp['number_of_reviews']\n",
        "ans['reviews_per_month'] = temp['reviews_per_month']"
      ],
      "execution_count": 131,
      "outputs": []
    },
    {
      "cell_type": "code",
      "metadata": {
        "colab": {
          "base_uri": "https://localhost:8080/"
        },
        "id": "2PDcis2LFvtH",
        "outputId": "b694de9a-069e-4525-c2e1-4e33fb7f96ab"
      },
      "source": [
        "temp"
      ],
      "execution_count": 132,
      "outputs": [
        {
          "output_type": "execute_result",
          "data": {
            "text/plain": [
              "{'availability_365': 0.008427242049289352,\n",
              " 'calculated_host_listings_count': 0.0033142448103078426,\n",
              " 'latitude': 0.003621024644646753,\n",
              " 'longitude': 0.0032119848655282057,\n",
              " 'minimum_nights': 0.004439104202883737,\n",
              " 'neighbourhood_group': 0.03900296553839866,\n",
              " 'number_of_reviews': 0.003007464975968932,\n",
              " 'reviews_per_month': 0.004950403926781921,\n",
              " 'room_type': 0.07346456692913395}"
            ]
          },
          "metadata": {},
          "execution_count": 132
        }
      ]
    },
    {
      "cell_type": "code",
      "metadata": {
        "colab": {
          "base_uri": "https://localhost:8080/"
        },
        "id": "1p7d2z1otzSl",
        "outputId": "3cac9f13-d3df-4f6b-c4d4-c8160d6fb1b4"
      },
      "source": [
        "sorted(ans.values())"
      ],
      "execution_count": 133,
      "outputs": [
        {
          "output_type": "execute_result",
          "data": {
            "text/plain": [
              "[0.003007464975968932,\n",
              " 0.004950403926781921,\n",
              " 0.03900296553839866,\n",
              " 0.07346456692913395]"
            ]
          },
          "metadata": {},
          "execution_count": 133
        }
      ]
    },
    {
      "cell_type": "markdown",
      "metadata": {
        "id": "9ao8Zqgc3xqL"
      },
      "source": [
        "# Question. 6"
      ]
    },
    {
      "cell_type": "code",
      "metadata": {
        "id": "U8CEAQR54soW"
      },
      "source": [
        "from sklearn.linear_model import Ridge"
      ],
      "execution_count": 134,
      "outputs": []
    },
    {
      "cell_type": "code",
      "metadata": {
        "colab": {
          "base_uri": "https://localhost:8080/"
        },
        "id": "QiTvLvVW2hy9",
        "outputId": "4254920b-09d1-40d5-c6a1-7b3c5b9e0ae0"
      },
      "source": [
        "y_train_log = np.log1p(y_train)\n",
        "y_validate_log = np.log1p(y_validate)\n",
        "y_test_log = np.log1p(y_test)\n",
        "y_train_log.isnull().value_counts()"
      ],
      "execution_count": 135,
      "outputs": [
        {
          "output_type": "execute_result",
          "data": {
            "text/plain": [
              "False    29337\n",
              "Name: price, dtype: int64"
            ]
          },
          "metadata": {},
          "execution_count": 135
        }
      ]
    },
    {
      "cell_type": "code",
      "metadata": {
        "id": "vfZmFH749gER"
      },
      "source": [
        "def rmse(y, y_pred):\n",
        "    error = y_pred - y\n",
        "    mse = (error ** 2).mean()\n",
        "    return np.sqrt(mse)"
      ],
      "execution_count": 136,
      "outputs": []
    },
    {
      "cell_type": "code",
      "metadata": {
        "id": "bKRCXBY44bnS"
      },
      "source": [
        "values = []\n",
        "for i in [0, 0.01, 0.1, 1, 10]:\n",
        "  rmodel = Ridge(alpha=i)\n",
        "  rmodel.fit(X_train, y_train_log)\n",
        "  values.append(round(rmse(rmodel.predict(X_validate), y_validate_log), 3))"
      ],
      "execution_count": 137,
      "outputs": []
    },
    {
      "cell_type": "code",
      "metadata": {
        "colab": {
          "base_uri": "https://localhost:8080/"
        },
        "id": "kcKt9N1o63Nh",
        "outputId": "4fffefab-9246-4db8-c5b9-1a4a082f77e1"
      },
      "source": [
        "values"
      ],
      "execution_count": 138,
      "outputs": [
        {
          "output_type": "execute_result",
          "data": {
            "text/plain": [
              "[0.497, 0.497, 0.497, 0.497, 0.498]"
            ]
          },
          "metadata": {},
          "execution_count": 138
        }
      ]
    },
    {
      "cell_type": "code",
      "metadata": {
        "colab": {
          "base_uri": "https://localhost:8080/"
        },
        "id": "0D1PDcAX963L",
        "outputId": "24a7fdc3-5cdf-450b-bf63-c8a864023ca7"
      },
      "source": [
        "min(values)"
      ],
      "execution_count": 139,
      "outputs": [
        {
          "output_type": "execute_result",
          "data": {
            "text/plain": [
              "0.497"
            ]
          },
          "metadata": {},
          "execution_count": 139
        }
      ]
    }
  ]
}