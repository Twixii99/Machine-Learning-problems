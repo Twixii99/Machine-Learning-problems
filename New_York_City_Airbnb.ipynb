{
  "nbformat": 4,
  "nbformat_minor": 0,
  "metadata": {
    "colab": {
      "name": "New York City Airbnb.ipynb",
      "provenance": [],
      "collapsed_sections": [],
      "authorship_tag": "ABX9TyOI9t7iVEajFFxLesXYruZs",
      "include_colab_link": true
    },
    "kernelspec": {
      "name": "python3",
      "display_name": "Python 3"
    },
    "language_info": {
      "name": "python"
    }
  },
  "cells": [
    {
      "cell_type": "markdown",
      "metadata": {
        "id": "view-in-github",
        "colab_type": "text"
      },
      "source": [
        "<a href=\"https://colab.research.google.com/github/Twixii99/Machine-Learning-problems/blob/main/New_York_City_Airbnb.ipynb\" target=\"_parent\"><img src=\"https://colab.research.google.com/assets/colab-badge.svg\" alt=\"Open In Colab\"/></a>"
      ]
    },
    {
      "cell_type": "code",
      "metadata": {
        "id": "L01Du1IwaT0v"
      },
      "source": [
        "import numpy as np\n",
        "import pandas as pd\n",
        "import matplotlib.pyplot as plt\n",
        "import seaborn as sns\n",
        "\n",
        "%matplotlib inline"
      ],
      "execution_count": null,
      "outputs": []
    },
    {
      "cell_type": "code",
      "metadata": {
        "colab": {
          "base_uri": "https://localhost:8080/"
        },
        "id": "ou69w1-Nak4s",
        "outputId": "c482cd2a-2732-4d6b-90c2-60fb9dab9259"
      },
      "source": [
        "!wget https://raw.githubusercontent.com/alexeygrigorev/datasets/master/AB_NYC_2019.csv"
      ],
      "execution_count": null,
      "outputs": [
        {
          "output_type": "stream",
          "name": "stdout",
          "text": [
            "--2021-09-21 22:59:58--  https://raw.githubusercontent.com/alexeygrigorev/datasets/master/AB_NYC_2019.csv\n",
            "Resolving raw.githubusercontent.com (raw.githubusercontent.com)... 185.199.108.133, 185.199.109.133, 185.199.110.133, ...\n",
            "Connecting to raw.githubusercontent.com (raw.githubusercontent.com)|185.199.108.133|:443... connected.\n",
            "HTTP request sent, awaiting response... 200 OK\n",
            "Length: 7077973 (6.8M) [text/plain]\n",
            "Saving to: ‘AB_NYC_2019.csv.2’\n",
            "\n",
            "\rAB_NYC_2019.csv.2     0%[                    ]       0  --.-KB/s               \rAB_NYC_2019.csv.2   100%[===================>]   6.75M  --.-KB/s    in 0.04s   \n",
            "\n",
            "2021-09-21 22:59:58 (172 MB/s) - ‘AB_NYC_2019.csv.2’ saved [7077973/7077973]\n",
            "\n"
          ]
        }
      ]
    },
    {
      "cell_type": "code",
      "metadata": {
        "colab": {
          "base_uri": "https://localhost:8080/",
          "height": 411
        },
        "id": "qFDCx73Xauy1",
        "outputId": "ea8622f2-e158-4421-bb55-1fd43fbddf7f"
      },
      "source": [
        "df = pd.read_csv('AB_NYC_2019.csv')\n",
        "df.head()"
      ],
      "execution_count": null,
      "outputs": [
        {
          "output_type": "execute_result",
          "data": {
            "text/html": [
              "<div>\n",
              "<style scoped>\n",
              "    .dataframe tbody tr th:only-of-type {\n",
              "        vertical-align: middle;\n",
              "    }\n",
              "\n",
              "    .dataframe tbody tr th {\n",
              "        vertical-align: top;\n",
              "    }\n",
              "\n",
              "    .dataframe thead th {\n",
              "        text-align: right;\n",
              "    }\n",
              "</style>\n",
              "<table border=\"1\" class=\"dataframe\">\n",
              "  <thead>\n",
              "    <tr style=\"text-align: right;\">\n",
              "      <th></th>\n",
              "      <th>id</th>\n",
              "      <th>name</th>\n",
              "      <th>host_id</th>\n",
              "      <th>host_name</th>\n",
              "      <th>neighbourhood_group</th>\n",
              "      <th>neighbourhood</th>\n",
              "      <th>latitude</th>\n",
              "      <th>longitude</th>\n",
              "      <th>room_type</th>\n",
              "      <th>price</th>\n",
              "      <th>minimum_nights</th>\n",
              "      <th>number_of_reviews</th>\n",
              "      <th>last_review</th>\n",
              "      <th>reviews_per_month</th>\n",
              "      <th>calculated_host_listings_count</th>\n",
              "      <th>availability_365</th>\n",
              "    </tr>\n",
              "  </thead>\n",
              "  <tbody>\n",
              "    <tr>\n",
              "      <th>0</th>\n",
              "      <td>2539</td>\n",
              "      <td>Clean &amp; quiet apt home by the park</td>\n",
              "      <td>2787</td>\n",
              "      <td>John</td>\n",
              "      <td>Brooklyn</td>\n",
              "      <td>Kensington</td>\n",
              "      <td>40.64749</td>\n",
              "      <td>-73.97237</td>\n",
              "      <td>Private room</td>\n",
              "      <td>149</td>\n",
              "      <td>1</td>\n",
              "      <td>9</td>\n",
              "      <td>2018-10-19</td>\n",
              "      <td>0.21</td>\n",
              "      <td>6</td>\n",
              "      <td>365</td>\n",
              "    </tr>\n",
              "    <tr>\n",
              "      <th>1</th>\n",
              "      <td>2595</td>\n",
              "      <td>Skylit Midtown Castle</td>\n",
              "      <td>2845</td>\n",
              "      <td>Jennifer</td>\n",
              "      <td>Manhattan</td>\n",
              "      <td>Midtown</td>\n",
              "      <td>40.75362</td>\n",
              "      <td>-73.98377</td>\n",
              "      <td>Entire home/apt</td>\n",
              "      <td>225</td>\n",
              "      <td>1</td>\n",
              "      <td>45</td>\n",
              "      <td>2019-05-21</td>\n",
              "      <td>0.38</td>\n",
              "      <td>2</td>\n",
              "      <td>355</td>\n",
              "    </tr>\n",
              "    <tr>\n",
              "      <th>2</th>\n",
              "      <td>3647</td>\n",
              "      <td>THE VILLAGE OF HARLEM....NEW YORK !</td>\n",
              "      <td>4632</td>\n",
              "      <td>Elisabeth</td>\n",
              "      <td>Manhattan</td>\n",
              "      <td>Harlem</td>\n",
              "      <td>40.80902</td>\n",
              "      <td>-73.94190</td>\n",
              "      <td>Private room</td>\n",
              "      <td>150</td>\n",
              "      <td>3</td>\n",
              "      <td>0</td>\n",
              "      <td>NaN</td>\n",
              "      <td>NaN</td>\n",
              "      <td>1</td>\n",
              "      <td>365</td>\n",
              "    </tr>\n",
              "    <tr>\n",
              "      <th>3</th>\n",
              "      <td>3831</td>\n",
              "      <td>Cozy Entire Floor of Brownstone</td>\n",
              "      <td>4869</td>\n",
              "      <td>LisaRoxanne</td>\n",
              "      <td>Brooklyn</td>\n",
              "      <td>Clinton Hill</td>\n",
              "      <td>40.68514</td>\n",
              "      <td>-73.95976</td>\n",
              "      <td>Entire home/apt</td>\n",
              "      <td>89</td>\n",
              "      <td>1</td>\n",
              "      <td>270</td>\n",
              "      <td>2019-07-05</td>\n",
              "      <td>4.64</td>\n",
              "      <td>1</td>\n",
              "      <td>194</td>\n",
              "    </tr>\n",
              "    <tr>\n",
              "      <th>4</th>\n",
              "      <td>5022</td>\n",
              "      <td>Entire Apt: Spacious Studio/Loft by central park</td>\n",
              "      <td>7192</td>\n",
              "      <td>Laura</td>\n",
              "      <td>Manhattan</td>\n",
              "      <td>East Harlem</td>\n",
              "      <td>40.79851</td>\n",
              "      <td>-73.94399</td>\n",
              "      <td>Entire home/apt</td>\n",
              "      <td>80</td>\n",
              "      <td>10</td>\n",
              "      <td>9</td>\n",
              "      <td>2018-11-19</td>\n",
              "      <td>0.10</td>\n",
              "      <td>1</td>\n",
              "      <td>0</td>\n",
              "    </tr>\n",
              "  </tbody>\n",
              "</table>\n",
              "</div>"
            ],
            "text/plain": [
              "     id  ... availability_365\n",
              "0  2539  ...              365\n",
              "1  2595  ...              355\n",
              "2  3647  ...              365\n",
              "3  3831  ...              194\n",
              "4  5022  ...                0\n",
              "\n",
              "[5 rows x 16 columns]"
            ]
          },
          "metadata": {},
          "execution_count": 101
        }
      ]
    },
    {
      "cell_type": "code",
      "metadata": {
        "colab": {
          "base_uri": "https://localhost:8080/"
        },
        "id": "AQed4gD7gN_6",
        "outputId": "13eed189-fb91-4318-cb8d-3bf3257f8b9a"
      },
      "source": [
        "n = len(df)\n",
        "print(\"the size of our data frame %i records.\" % n)"
      ],
      "execution_count": null,
      "outputs": [
        {
          "output_type": "stream",
          "name": "stdout",
          "text": [
            "the size of our data frame 48895 records.\n"
          ]
        }
      ]
    },
    {
      "cell_type": "code",
      "metadata": {
        "colab": {
          "base_uri": "https://localhost:8080/",
          "height": 296
        },
        "id": "32yqG9eTa1Od",
        "outputId": "114da7a9-830a-4b2d-99fa-01e6ec8f2ef2"
      },
      "source": [
        "sns.histplot(df.price[df.price < 2000], bins=50)\n",
        "# after plotting the price column then the plot has long tail distribution, after maybe 600."
      ],
      "execution_count": null,
      "outputs": [
        {
          "output_type": "execute_result",
          "data": {
            "text/plain": [
              "<matplotlib.axes._subplots.AxesSubplot at 0x7f6273b3ef10>"
            ]
          },
          "metadata": {},
          "execution_count": 103
        },
        {
          "output_type": "display_data",
          "data": {
            "image/png": "[encoded data removed]",
            "text/plain": [
              "<Figure size 432x288 with 1 Axes>"
            ]
          },
          "metadata": {
            "needs_background": "light"
          }
        }
      ]
    },
    {
      "cell_type": "code",
      "metadata": {
        "colab": {
          "base_uri": "https://localhost:8080/"
        },
        "id": "8gbELOtcvtaJ",
        "outputId": "6ac4434d-d876-44a8-b0b8-6c21c1b5f371"
      },
      "source": [
        "print(\"The datframe has %i string based columns.\" % len(df.dtypes[df.dtypes == object]))"
      ],
      "execution_count": null,
      "outputs": [
        {
          "output_type": "stream",
          "name": "stdout",
          "text": [
            "The datframe has 6 string based columns.\n"
          ]
        }
      ]
    },
    {
      "cell_type": "code",
      "metadata": {
        "id": "epwb7iMUbk7f"
      },
      "source": [
        "features = ['latitude', 'longitude', 'minimum_nights', 'number_of_reviews', 'reviews_per_month', 'calculated_host_listings_count','availability_365']\n",
        "target = df.price"
      ],
      "execution_count": null,
      "outputs": []
    },
    {
      "cell_type": "markdown",
      "metadata": {
        "id": "ECDbl8Mwg2J5"
      },
      "source": [
        "# Question 1"
      ]
    },
    {
      "cell_type": "code",
      "metadata": {
        "colab": {
          "base_uri": "https://localhost:8080/"
        },
        "id": "fTcyXvH2fAGX",
        "outputId": "8f9572c9-e6ad-46cf-fc72-8f9240c2e855"
      },
      "source": [
        "# Here we only checking the null values and see their number just in the features list as well as the price.\n",
        "features_no_nans = df[features + ['price']].isnull().sum()\n",
        "features_with_a_missing_value = features_no_nans[features_no_nans > 0]\n",
        "# we find that there's only one feature that has NAN values.\n",
        "print(\"The feature with missing values is {} and the number of NANs is {}\".format(features_with_a_missing_value.index.to_list(), features_with_a_missing_value.values))"
      ],
      "execution_count": null,
      "outputs": [
        {
          "output_type": "stream",
          "name": "stdout",
          "text": [
            "The feature with missing values is ['reviews_per_month'] and the number of NANs is [10052]\n"
          ]
        }
      ]
    },
    {
      "cell_type": "code",
      "metadata": {
        "colab": {
          "base_uri": "https://localhost:8080/"
        },
        "id": "2ndIuAYco4iD",
        "outputId": "54166e5b-7ff0-43ea-bb37-b23a2d6962ea"
      },
      "source": [
        "df.isnull().sum()[features + ['price']]"
      ],
      "execution_count": null,
      "outputs": [
        {
          "output_type": "execute_result",
          "data": {
            "text/plain": [
              "latitude                              0\n",
              "longitude                             0\n",
              "minimum_nights                        0\n",
              "number_of_reviews                     0\n",
              "reviews_per_month                 10052\n",
              "calculated_host_listings_count        0\n",
              "availability_365                      0\n",
              "price                                 0\n",
              "dtype: int64"
            ]
          },
          "metadata": {},
          "execution_count": 107
        }
      ]
    },
    {
      "cell_type": "markdown",
      "metadata": {
        "id": "m7CzTYOYg7Dq"
      },
      "source": [
        "# Question 2"
      ]
    },
    {
      "cell_type": "markdown",
      "metadata": {
        "id": "BcgreDpPXr4x"
      },
      "source": [
        "### Notes:\n",
        "There are three ways to find the meadian:\n",
        "- pandas -> df[\\' sth \\'].median()\n",
        "- pandaa -> df.describe(percentiles=[0.5]) -> this will give you summery about the whole dataframe.\n",
        "- numpy -> numpy.median(df['sth'])\n",
        "df.minimum_nights.median()\n",
        "df.describe(percentiles=[0.5])[features + ['price']]"
      ]
    },
    {
      "cell_type": "code",
      "metadata": {
        "colab": {
          "base_uri": "https://localhost:8080/"
        },
        "id": "OInvkzAffd9G",
        "outputId": "626629e2-23eb-4944-8319-5f684fba2336"
      },
      "source": [
        "df.minimum_nights.median()"
      ],
      "execution_count": null,
      "outputs": [
        {
          "output_type": "execute_result",
          "data": {
            "text/plain": [
              "3.0"
            ]
          },
          "metadata": {},
          "execution_count": 108
        }
      ]
    },
    {
      "cell_type": "code",
      "metadata": {
        "colab": {
          "base_uri": "https://localhost:8080/",
          "height": 235
        },
        "id": "zP10FKkY9LVR",
        "outputId": "d2fe8b9c-e128-4d3f-a48f-5c24f84bd392"
      },
      "source": [
        "df.describe(percentiles=[0.5])[features + ['price']]"
      ],
      "execution_count": null,
      "outputs": [
        {
          "output_type": "execute_result",
          "data": {
            "text/html": [
              "<div>\n",
              "<style scoped>\n",
              "    .dataframe tbody tr th:only-of-type {\n",
              "        vertical-align: middle;\n",
              "    }\n",
              "\n",
              "    .dataframe tbody tr th {\n",
              "        vertical-align: top;\n",
              "    }\n",
              "\n",
              "    .dataframe thead th {\n",
              "        text-align: right;\n",
              "    }\n",
              "</style>\n",
              "<table border=\"1\" class=\"dataframe\">\n",
              "  <thead>\n",
              "    <tr style=\"text-align: right;\">\n",
              "      <th></th>\n",
              "      <th>latitude</th>\n",
              "      <th>longitude</th>\n",
              "      <th>minimum_nights</th>\n",
              "      <th>number_of_reviews</th>\n",
              "      <th>reviews_per_month</th>\n",
              "      <th>calculated_host_listings_count</th>\n",
              "      <th>availability_365</th>\n",
              "      <th>price</th>\n",
              "    </tr>\n",
              "  </thead>\n",
              "  <tbody>\n",
              "    <tr>\n",
              "      <th>count</th>\n",
              "      <td>48895.000000</td>\n",
              "      <td>48895.000000</td>\n",
              "      <td>48895.000000</td>\n",
              "      <td>48895.000000</td>\n",
              "      <td>38843.000000</td>\n",
              "      <td>48895.000000</td>\n",
              "      <td>48895.000000</td>\n",
              "      <td>48895.000000</td>\n",
              "    </tr>\n",
              "    <tr>\n",
              "      <th>mean</th>\n",
              "      <td>40.728949</td>\n",
              "      <td>-73.952170</td>\n",
              "      <td>7.029962</td>\n",
              "      <td>23.274466</td>\n",
              "      <td>1.373221</td>\n",
              "      <td>7.143982</td>\n",
              "      <td>112.781327</td>\n",
              "      <td>152.720687</td>\n",
              "    </tr>\n",
              "    <tr>\n",
              "      <th>std</th>\n",
              "      <td>0.054530</td>\n",
              "      <td>0.046157</td>\n",
              "      <td>20.510550</td>\n",
              "      <td>44.550582</td>\n",
              "      <td>1.680442</td>\n",
              "      <td>32.952519</td>\n",
              "      <td>131.622289</td>\n",
              "      <td>240.154170</td>\n",
              "    </tr>\n",
              "    <tr>\n",
              "      <th>min</th>\n",
              "      <td>40.499790</td>\n",
              "      <td>-74.244420</td>\n",
              "      <td>1.000000</td>\n",
              "      <td>0.000000</td>\n",
              "      <td>0.010000</td>\n",
              "      <td>1.000000</td>\n",
              "      <td>0.000000</td>\n",
              "      <td>0.000000</td>\n",
              "    </tr>\n",
              "    <tr>\n",
              "      <th>50%</th>\n",
              "      <td>40.723070</td>\n",
              "      <td>-73.955680</td>\n",
              "      <td>3.000000</td>\n",
              "      <td>5.000000</td>\n",
              "      <td>0.720000</td>\n",
              "      <td>1.000000</td>\n",
              "      <td>45.000000</td>\n",
              "      <td>106.000000</td>\n",
              "    </tr>\n",
              "    <tr>\n",
              "      <th>max</th>\n",
              "      <td>40.913060</td>\n",
              "      <td>-73.712990</td>\n",
              "      <td>1250.000000</td>\n",
              "      <td>629.000000</td>\n",
              "      <td>58.500000</td>\n",
              "      <td>327.000000</td>\n",
              "      <td>365.000000</td>\n",
              "      <td>10000.000000</td>\n",
              "    </tr>\n",
              "  </tbody>\n",
              "</table>\n",
              "</div>"
            ],
            "text/plain": [
              "           latitude     longitude  ...  availability_365         price\n",
              "count  48895.000000  48895.000000  ...      48895.000000  48895.000000\n",
              "mean      40.728949    -73.952170  ...        112.781327    152.720687\n",
              "std        0.054530      0.046157  ...        131.622289    240.154170\n",
              "min       40.499790    -74.244420  ...          0.000000      0.000000\n",
              "50%       40.723070    -73.955680  ...         45.000000    106.000000\n",
              "max       40.913060    -73.712990  ...        365.000000  10000.000000\n",
              "\n",
              "[6 rows x 8 columns]"
            ]
          },
          "metadata": {},
          "execution_count": 109
        }
      ]
    },
    {
      "cell_type": "markdown",
      "metadata": {
        "id": "SLMxOwOmYiWp"
      },
      "source": [
        "## For shuffling the data we create a numpy array with the whole range [0, number of rows in df)"
      ]
    },
    {
      "cell_type": "code",
      "metadata": {
        "id": "vNNNU5NPhtYU"
      },
      "source": [
        "idx = np.arange(n)"
      ],
      "execution_count": null,
      "outputs": []
    },
    {
      "cell_type": "code",
      "metadata": {
        "id": "c-9uynYZiBdO"
      },
      "source": [
        "np.random.seed(42)\n",
        "np.random.shuffle(idx)"
      ],
      "execution_count": null,
      "outputs": []
    },
    {
      "cell_type": "markdown",
      "metadata": {
        "id": "74Y2bdi3Y_bR"
      },
      "source": [
        "# Splitting the data to 20% validation, 20% test and 60% training"
      ]
    },
    {
      "cell_type": "code",
      "metadata": {
        "colab": {
          "base_uri": "https://localhost:8080/"
        },
        "id": "AHYaJziaiIGc",
        "outputId": "7c2af9c2-8412-4991-bb19-1eda86f10760"
      },
      "source": [
        "n_validate = int(n * 0.2)\n",
        "n_test = int(n * 0.2)\n",
        "n_train =  n - n_validate - n_test\n",
        "print('size of train set = {}, validation set = {}, test set = {}'.format(n_train, n_validate, n_test))\n",
        "assert(n_train + n_validate + n_test == n)"
      ],
      "execution_count": null,
      "outputs": [
        {
          "output_type": "stream",
          "name": "stdout",
          "text": [
            "size of train set = 29337, validation set = 9779, test set = 9779\n"
          ]
        }
      ]
    },
    {
      "cell_type": "code",
      "metadata": {
        "id": "5EesF5rXjGH_"
      },
      "source": [
        "# we are getting the data using the shuffled array and we reset the index to 0 -> n_train and we just get the features we want from the whole columns.\n",
        "# now we have train, validation and test sets with NAN values (we need to take an action to deal with it).\n",
        "df_train = df.iloc[idx[:n_train]].reset_index(drop=True)[features + ['price']]\n",
        "df_validate = df.iloc[idx[n_train:n_train + n_validate]].reset_index(drop=True)[features + ['price']]\n",
        "df_test = df.iloc[idx[n_train + n_validate:]].reset_index(drop=True)[features + ['price']]"
      ],
      "execution_count": null,
      "outputs": []
    },
    {
      "cell_type": "code",
      "metadata": {
        "id": "muw9VqNtkG2w"
      },
      "source": [
        "# Here we take the target variables out of the train, val and test sets and assign them to the corresponding meaningful variable.\n",
        "# we also applay the logarithmic distribution so we end up with bell shape(normal distribution).\n",
        "y_train = np.log1p(df_train.price.values)\n",
        "y_validate = np.log1p(df_validate.price.values)\n",
        "y_test = np.log1p(df_test.price.values)"
      ],
      "execution_count": null,
      "outputs": []
    },
    {
      "cell_type": "code",
      "metadata": {
        "colab": {
          "base_uri": "https://localhost:8080/",
          "height": 282
        },
        "id": "mCe4rGlCIL5Y",
        "outputId": "f0a1ae81-c7d4-4dbb-fc37-6416c574b245"
      },
      "source": [
        "sns.histplot(data=y_train, bins=50, alpha=0.7)"
      ],
      "execution_count": null,
      "outputs": [
        {
          "output_type": "execute_result",
          "data": {
            "text/plain": [
              "<matplotlib.axes._subplots.AxesSubplot at 0x7f6263ba0290>"
            ]
          },
          "metadata": {},
          "execution_count": 115
        },
        {
          "output_type": "display_data",
          "data": {
            "image/png": "[encoded data removed]",
            "text/plain": [
              "<Figure size 432x288 with 1 Axes>"
            ]
          },
          "metadata": {
            "needs_background": "light"
          }
        }
      ]
    },
    {
      "cell_type": "code",
      "metadata": {
        "id": "oLRZAqiUjjSJ"
      },
      "source": [
        "# After running these 3 lines we just remove the price column form the train, validate and test sets.\n",
        "del df_train['price']\n",
        "del df_validate['price']\n",
        "del df_test['price']"
      ],
      "execution_count": null,
      "outputs": []
    },
    {
      "cell_type": "markdown",
      "metadata": {
        "id": "WebOTLK5hhd8"
      },
      "source": [
        "# Question 3 (shared function between zero fill and mean fill)\n",
        "\n",
        "Now we start this section having 6 differnet variables \n",
        "1. test set. \n",
        "2. validation set.   \n",
        "3. test set.\n",
        "\n",
        "4. target variables associated with the train set.\n",
        "5. target variables associated with the validation set.\n",
        "6. target variables associated with the test set."
      ]
    },
    {
      "cell_type": "code",
      "metadata": {
        "id": "knxqRA2NHU84"
      },
      "source": [
        "# the linear regression model.\n",
        "# it's in the most compact form which er end up having a compined set containg the (W0, W set weights) we need to sparate them.\n",
        "def logistic_regression_training(X, y):\n",
        "  ones = np.ones(X.shape[0])\n",
        "  X = np.column_stack([ones, X])\n",
        "  return np.linalg.inv(X.T.dot(X)).dot(X.T).dot(y)"
      ],
      "execution_count": null,
      "outputs": []
    },
    {
      "cell_type": "code",
      "metadata": {
        "id": "UilkJ5AIM7Js"
      },
      "source": [
        "# the root mean square error metric.\n",
        "def RMSE(y_hat, y):\n",
        "  return np.sqrt(np.power(y_hat - y, 2).mean())"
      ],
      "execution_count": null,
      "outputs": []
    },
    {
      "cell_type": "markdown",
      "metadata": {
        "id": "AxW4REUbfDs5"
      },
      "source": [
        "# we here suffering from the problem of precission"
      ]
    },
    {
      "cell_type": "code",
      "metadata": {
        "colab": {
          "base_uri": "https://localhost:8080/"
        },
        "id": "rW3Tavjj_DKl",
        "outputId": "49286b5e-7dfa-4c13-8642-1a36252d8f1e"
      },
      "source": [
        "df_train['reviews_per_month'].sum() / (len(df_train['reviews_per_month']) - df_train['reviews_per_month'].isnull().sum())"
      ],
      "execution_count": null,
      "outputs": [
        {
          "output_type": "execute_result",
          "data": {
            "text/plain": [
              "1.3685492094776983"
            ]
          },
          "metadata": {},
          "execution_count": 119
        }
      ]
    },
    {
      "cell_type": "code",
      "metadata": {
        "colab": {
          "base_uri": "https://localhost:8080/"
        },
        "id": "kAJXbKEO8iJw",
        "outputId": "3eba73f2-a46d-4d9f-f480-698722ab568f"
      },
      "source": [
        "df_train['reviews_per_month'].mean(), df_validate['reviews_per_month'].mean(), df_test['reviews_per_month'].mean()"
      ],
      "execution_count": null,
      "outputs": [
        {
          "output_type": "execute_result",
          "data": {
            "text/plain": [
              "(1.3685492094777056, 1.376658902691513, 1.3838284465020692)"
            ]
          },
          "metadata": {},
          "execution_count": 120
        }
      ]
    },
    {
      "cell_type": "code",
      "metadata": {
        "id": "4NNoaJuHhSii"
      },
      "source": [
        "# filling the 3 sets NAN values with 0 \n",
        "df_train_0 = df_train.fillna(0)\n",
        "df_validate_0 = df_validate.fillna(0)\n",
        "df_test_0 = df_test.fillna(0)"
      ],
      "execution_count": null,
      "outputs": []
    },
    {
      "cell_type": "code",
      "metadata": {
        "colab": {
          "base_uri": "https://localhost:8080/"
        },
        "id": "pc1CqFYl85K7",
        "outputId": "5018ecc4-9839-4b7b-a374-b0caeddfaba1"
      },
      "source": [
        "df_train_0['reviews_per_month'].mean(), df_validate_0['reviews_per_month'].mean(), df_test_0['reviews_per_month'].mean()"
      ],
      "execution_count": null,
      "outputs": [
        {
          "output_type": "execute_result",
          "data": {
            "text/plain": [
              "(1.0887469748099727, 1.0879251457204226, 1.1003834747929329)"
            ]
          },
          "metadata": {},
          "execution_count": 122
        }
      ]
    },
    {
      "cell_type": "code",
      "metadata": {
        "id": "-r9wds3iii1w"
      },
      "source": [
        "train_mean = df_train['reviews_per_month'].mean()"
      ],
      "execution_count": null,
      "outputs": []
    },
    {
      "cell_type": "code",
      "metadata": {
        "id": "mnfwea3Ojg1U"
      },
      "source": [
        "# filling the 3 sets NAN values with the mean value and because we have only one column that has this type of NANs the we just need its mean value to use.\n",
        "df_train_m = df_train.fillna(train_mean)\n",
        "# take care here we take the mean of from the training set and use it for validation and test.\n",
        "df_validate_m = df_validate.fillna(train_mean)\n",
        "df_test_m = df_test.fillna(train_mean)"
      ],
      "execution_count": null,
      "outputs": []
    },
    {
      "cell_type": "code",
      "metadata": {
        "colab": {
          "base_uri": "https://localhost:8080/"
        },
        "id": "I7JUGkSm9CTm",
        "outputId": "7efebc54-619a-49a3-f02d-7fd739c10655"
      },
      "source": [
        "df_train_m['reviews_per_month'].mean(), df_validate_m['reviews_per_month'].mean(), df_test_m['reviews_per_month'].mean()"
      ],
      "execution_count": null,
      "outputs": [
        {
          "output_type": "execute_result",
          "data": {
            "text/plain": [
              "(1.3685492094777751, 1.3749580149952276, 1.380698851271448)"
            ]
          },
          "metadata": {},
          "execution_count": 125
        }
      ]
    },
    {
      "cell_type": "code",
      "metadata": {
        "id": "94pNQ5FwHDBD"
      },
      "source": [
        "# we have the target values for each set in terms of numpy array previously but what about the features ?\n",
        "# Here we extract the feature matrix for zero replacing NAN values.\n",
        "X_train_0 = df_train_0.values\n",
        "X_validate_0 = df_validate_0.values\n",
        "X_test_0 = df_test_0.values"
      ],
      "execution_count": null,
      "outputs": []
    },
    {
      "cell_type": "code",
      "metadata": {
        "id": "T_ScZoJhPQ9y"
      },
      "source": [
        "# Here we extract the feature matrix for mean replacing NAN values.\n",
        "X_train_m = df_train_m.values\n",
        "X_validate_m = df_validate_m.values\n",
        "X_test_m = df_test_m.values"
      ],
      "execution_count": null,
      "outputs": []
    },
    {
      "cell_type": "code",
      "metadata": {
        "id": "qGf8y519PV0S"
      },
      "source": [
        "# Here we train the model one with zero and the other with mean.\n",
        "W_0_t = logistic_regression_training(X_train_0, y_train)\n",
        "W_m_t = logistic_regression_training(X_train_m, y_train)"
      ],
      "execution_count": null,
      "outputs": []
    },
    {
      "cell_type": "code",
      "metadata": {
        "id": "KOTA3HBOPnIS"
      },
      "source": [
        "# seprate the bias and the weights as we said previously.\n",
        "w_0_0, w_0 = W_0_t[0], W_0_t[1:]\n",
        "w_m_0, w_m = W_m_t[0], W_m_t[1:]"
      ],
      "execution_count": null,
      "outputs": []
    },
    {
      "cell_type": "code",
      "metadata": {
        "id": "-DSDUc_8R25K"
      },
      "source": [
        "# use the validation set.\n",
        "y_pred_0 = w_m_0 + X_validate_m.dot(w_m)\n",
        "y_pred_m = w_m_0 + X_validate_m.dot(w_m)"
      ],
      "execution_count": null,
      "outputs": []
    },
    {
      "cell_type": "code",
      "metadata": {
        "colab": {
          "base_uri": "https://localhost:8080/"
        },
        "id": "AynqeIUUUAr6",
        "outputId": "9439fbce-42ac-4b12-c79c-007f53438f99"
      },
      "source": [
        "# print the RMSE values.\n",
        "# WOW OMG, they are exactly the same.\n",
        "print(RMSE(y_pred_0, y_validate))\n",
        "print(RMSE(y_pred_m, y_validate))"
      ],
      "execution_count": null,
      "outputs": [
        {
          "output_type": "stream",
          "name": "stdout",
          "text": [
            "0.6427545031727665\n",
            "0.6427545031727665\n"
          ]
        }
      ]
    },
    {
      "cell_type": "markdown",
      "metadata": {
        "id": "HPJbflJwWtby"
      },
      "source": [
        "# Question 4"
      ]
    },
    {
      "cell_type": "code",
      "metadata": {
        "id": "2Dnr0oZ5ULjo"
      },
      "source": [
        "def regularized_linear_regression(X, y, reg=0.01):\n",
        "  X = np.column_stack([np.ones(X.shape[0]), X])\n",
        "  return np.linalg.inv(X.T.dot(X) + np.eye(X.shape[1]) * reg).dot(X.T).dot(y)"
      ],
      "execution_count": null,
      "outputs": []
    },
    {
      "cell_type": "code",
      "metadata": {
        "colab": {
          "base_uri": "https://localhost:8080/"
        },
        "id": "Q5wLJ7Nlukhs",
        "outputId": "165ba9e1-c8f0-4238-f10e-55f6ef31828d"
      },
      "source": [
        "regularization_paramater = [0, 0.000001, 0.0001, 0.001, 0.01, 0.1, 1, 5, 10]\n",
        "min_val = 1e6\n",
        "for r in regularization_paramater:\n",
        "  W_0 = regularized_linear_regression(X_train_0, y_train, reg=r)\n",
        "  w0, w = W_0[0], W_0[1:]\n",
        "  rmse = RMSE(w0 + X_validate_0.dot(w), y_validate)\n",
        "  print('%s' % r, w0, rmse, round(rmse, 2), sep='\\t')\n",
        "  min_val = min(min_val, rmse)\n",
        "print(\"The minmum rmse = \", min_val)"
      ],
      "execution_count": null,
      "outputs": [
        {
          "output_type": "stream",
          "name": "stdout",
          "text": [
            "0\t-419.91265807142094\t0.6430337788584176\t0.64\n",
            "1e-06\t-419.8627153336333\t0.6430341157479255\t0.64\n",
            "0.0001\t-414.97649233703777\t0.6430723153561932\t0.64\n",
            "0.001\t-375.27365241862066\t0.6437669735361422\t0.64\n",
            "0.01\t-191.78384049339815\t0.655752842747922\t0.66\n",
            "0.1\t-32.56256054966786\t0.6773299642454972\t0.68\n",
            "1\t-3.4992168354209157\t0.6823116950156266\t0.68\n",
            "5\t-0.7033623171188026\t0.6827915727849295\t0.68\n",
            "10\t-0.35127675921831375\t0.6828430212097022\t0.68\n",
            "The minmum rmse =  0.6430337788584176\n"
          ]
        }
      ]
    },
    {
      "cell_type": "markdown",
      "metadata": {
        "id": "qUjDVshlSxBu"
      },
      "source": [
        "# Question5"
      ]
    },
    {
      "cell_type": "code",
      "metadata": {
        "id": "5lKvssGmSyzk"
      },
      "source": [
        "seed = [0, 1, 2, 3, 4, 5, 6, 7, 8, 9]"
      ],
      "execution_count": null,
      "outputs": []
    },
    {
      "cell_type": "code",
      "metadata": {
        "colab": {
          "base_uri": "https://localhost:8080/"
        },
        "id": "FCHYQBZETTZx",
        "outputId": "13fb884a-e42f-4b99-f6d8-f6ec125606fc"
      },
      "source": [
        "RMSEs = []\n",
        "print('s\\t\\tw0\\t\\tRMSE\\n--------------------------------------')\n",
        "for s in seed:\n",
        "  idx = np.arange(n)\n",
        "  np.random.seed(s)\n",
        "  np.random.shuffle(idx)\n",
        "\n",
        "  n_validate = int(n * 0.2)\n",
        "  n_test = int(n * 0.2)\n",
        "  n_train =  n - n_validate - n_test\n",
        "  assert(n_train + n_validate + n_test == n)\n",
        "\n",
        "  df_train = df.iloc[idx[:n_train]].reset_index(drop=True)[features + ['price']]\n",
        "  df_validate = df.iloc[idx[n_train:n_train + n_validate]].reset_index(drop=True)[features + ['price']]\n",
        "  df_test = df.iloc[idx[n_train + n_validate:]].reset_index(drop=True)[features + ['price']]\n",
        "\n",
        "  y_train = np.log1p(df_train.price.values)\n",
        "  y_validate = np.log1p(df_validate.price.values)\n",
        "  y_test = np.log1p(df_test.price.values)  \n",
        "\n",
        "  del df_train['price']\n",
        "  del df_validate['price']\n",
        "  del df_test['price']\n",
        "\n",
        "  df_train_0 = df_train.fillna(0)\n",
        "  df_validate_0 = df_validate.fillna(0)\n",
        "  df_test_0 = df_test.fillna(0)\n",
        "\n",
        "  X_train_0 = df_train_0.values\n",
        "  X_validate_0 = df_validate_0.values\n",
        "  X_test_0 = df_test_0.values\n",
        "\n",
        "  W_0_t = logistic_regression_training(X_train_0, y_train)\n",
        "  w_0_0, w_0 = W_0_t[0], W_0_t[1:]\n",
        "\n",
        "  y_pred_0 = w_m_0 + X_validate_0.dot(w_m)\n",
        "\n",
        "  rmse = round(RMSE(y_pred_0, y_validate), 3)\n",
        "  RMSEs.append(rmse)\n",
        "\n",
        "  print(s, w_0_0, rmse, sep='\\t')"
      ],
      "execution_count": null,
      "outputs": [
        {
          "output_type": "stream",
          "name": "stdout",
          "text": [
            "s\t\tw0\t\tRMSE\n",
            "--------------------------------------\n",
            "0\t-427.62844664557156\t0.655\n",
            "1\t-414.705549612686\t0.646\n",
            "2\t-423.2541339709816\t0.648\n",
            "3\t-421.8933149858973\t0.637\n",
            "4\t-422.06099015318\t0.645\n",
            "5\t-429.17875236428165\t0.63\n",
            "6\t-427.4918956970859\t0.63\n",
            "7\t-428.188470177037\t0.651\n",
            "8\t-427.6929103889785\t0.649\n",
            "9\t-426.9826903700345\t0.644\n"
          ]
        }
      ]
    },
    {
      "cell_type": "code",
      "metadata": {
        "colab": {
          "base_uri": "https://localhost:8080/"
        },
        "id": "nZOHGZoGWfHE",
        "outputId": "5997f5bc-74ee-4154-a241-e8361503ddf6"
      },
      "source": [
        "np.array(RMSEs).std().round(3)"
      ],
      "execution_count": null,
      "outputs": [
        {
          "output_type": "execute_result",
          "data": {
            "text/plain": [
              "0.008"
            ]
          },
          "metadata": {},
          "execution_count": 136
        }
      ]
    },
    {
      "cell_type": "markdown",
      "metadata": {
        "id": "TFUhTmy1eKpE"
      },
      "source": [
        "# Question 6"
      ]
    },
    {
      "cell_type": "code",
      "metadata": {
        "id": "EUzfNZPWd4Ya"
      },
      "source": [
        "# I will use the previous variables as the last idx has value 9 in the seed list.\n",
        "df_combined_train_validate = pd.concat([df_train_0, df_validate_0]).reset_index(drop=True)\n",
        "assert(len(df_combined_train_validate) == len(df_train_0) + len(df_validate_0))"
      ],
      "execution_count": null,
      "outputs": []
    },
    {
      "cell_type": "code",
      "metadata": {
        "id": "BE-OawzuhS31"
      },
      "source": [
        "y_combined_train_validate = np.concatenate((y_train, y_validate))\n",
        "assert(len(y_combined_train_validate) == len(y_train) + len(y_validate))"
      ],
      "execution_count": null,
      "outputs": []
    },
    {
      "cell_type": "code",
      "metadata": {
        "id": "VPyTwlCMi8j0"
      },
      "source": [
        "W = regularized_linear_regression(df_combined_train_validate.values, y_combined_train_validate, reg=0.001)"
      ],
      "execution_count": null,
      "outputs": []
    },
    {
      "cell_type": "code",
      "metadata": {
        "id": "-mgTModTjazg"
      },
      "source": [
        "w0, w = W[0], W[1:]"
      ],
      "execution_count": null,
      "outputs": []
    },
    {
      "cell_type": "code",
      "metadata": {
        "id": "OEXNKiK1jdaR"
      },
      "source": [
        "y_pred = w0 + df_test_0.values.dot(w)"
      ],
      "execution_count": null,
      "outputs": []
    },
    {
      "cell_type": "code",
      "metadata": {
        "colab": {
          "base_uri": "https://localhost:8080/"
        },
        "id": "MdstWzoek7gR",
        "outputId": "ec0aacb9-c348-4587-b66f-06ad92967cf1"
      },
      "source": [
        "print(RMSE(y_pred, y_test))"
      ],
      "execution_count": null,
      "outputs": [
        {
          "output_type": "stream",
          "name": "stdout",
          "text": [
            "0.6452771348554612\n"
          ]
        }
      ]
    },
    {
      "cell_type": "code",
      "metadata": {
        "id": "175B4u1CpSfD"
      },
      "source": [
        ""
      ],
      "execution_count": null,
      "outputs": []
    }
  ]
}